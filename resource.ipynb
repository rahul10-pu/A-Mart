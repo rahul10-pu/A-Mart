{
  "nbformat": 4,
  "nbformat_minor": 0,
  "metadata": {
    "colab": {
      "name": "resource.ipynb",
      "version": "0.3.2",
      "provenance": [],
      "collapsed_sections": [],
      "include_colab_link": true
    },
    "kernelspec": {
      "name": "python3",
      "display_name": "Python 3"
    }
  },
  "cells": [
    {
      "cell_type": "markdown",
      "metadata": {
        "id": "view-in-github",
        "colab_type": "text"
      },
      "source": [
        "<a href=\"https://colab.research.google.com/github/rahul10-pu/A-Mart/blob/master/resource.ipynb\" target=\"_parent\"><img src=\"https://colab.research.google.com/assets/colab-badge.svg\" alt=\"Open In Colab\"/></a>"
      ]
    },
    {
      "metadata": {
        "id": "jFlq5AZDv4Sr",
        "colab_type": "code",
        "colab": {}
      },
      "cell_type": "code",
      "source": [
        "//AppConfig.java\n",
        "package resources;\n",
        "\n",
        "import java.io.IOException;\n",
        "import java.io.InputStream;\n",
        "import java.util.Properties;\n",
        "\n",
        "public class AppConfig {\n",
        "\t\n",
        "\tpublic static final Properties PROPERTIES;\n",
        "\tpublic static InputStream inputStream = null;\n",
        "\t\n",
        "\tstatic {\n",
        "\t\ttry {\n",
        "\t\t\tinputStream = AppConfig.class.getResourceAsStream(\"configuration.properties\");\n",
        "\t\t}\n",
        "\t\tcatch (Exception e) {\n",
        "\t\t\tLogConfig.getLogger(AppConfig.class).error(e.getMessage(), e);\n",
        "\t\t}\n",
        "\t\t\n",
        "\t\tPROPERTIES = new Properties();\n",
        "\t\t\n",
        "\t\ttry {\n",
        "\t\t\tPROPERTIES.load(inputStream);\n",
        "\t\t}\n",
        "\t\tcatch (IOException e) {\n",
        "\t\t\tLogConfig.getLogger(AppConfig.class).error(e.getMessage(), e);\n",
        "\t\t}\n",
        "\t}\n",
        "}\n"
      ],
      "execution_count": 0,
      "outputs": []
    },
    {
      "metadata": {
        "id": "RsBKqAipv8Dp",
        "colab_type": "text"
      },
      "cell_type": "markdown",
      "source": [
        "**LogConfig.java**"
      ]
    },
    {
      "metadata": {
        "id": "z2KFuZCywOeM",
        "colab_type": "code",
        "colab": {}
      },
      "cell_type": "code",
      "source": [
        "package resources;\n",
        "\n",
        "import java.io.File;\n",
        "\n",
        "import org.apache.logging.log4j.Level;\n",
        "import org.apache.logging.log4j.LogManager;\n",
        "import org.apache.logging.log4j.Logger;\n",
        "import org.apache.logging.log4j.core.LoggerContext;\n",
        "import org.apache.logging.log4j.status.StatusLogger;\n",
        "\n",
        "\n",
        "public class LogConfig {\n",
        "\t\n",
        "\t/* The following code sets the path for the log4j2 configuration file */\n",
        "\t/* Default path is the project's src folder */\n",
        "\tstatic {\n",
        "\t\tStatusLogger.getLogger().setLevel(Level.OFF);\n",
        "\t\t((LoggerContext) LogManager.getContext(false)).setConfigLocation(new File(\"src/resources/log4j2.xml\").toURI());\n",
        "\t}\n",
        "\t\n",
        "\tpublic static Logger getLogger(Class<?> clazz) {\n",
        "\t\treturn LogManager.getLogger(clazz);\n",
        "\t}\n",
        "}\n"
      ],
      "execution_count": 0,
      "outputs": []
    },
    {
      "metadata": {
        "id": "Ur8q7ewBwP2p",
        "colab_type": "text"
      },
      "cell_type": "markdown",
      "source": [
        "ApplicationTest.java"
      ]
    },
    {
      "metadata": {
        "id": "Q54MF6bLwd8V",
        "colab_type": "code",
        "colab": {}
      },
      "cell_type": "code",
      "source": [
        "package test;\n",
        "\n",
        "public class ApplicationTest {\n",
        "\n",
        "\t// DO NOT CHANGE METHOD SIGNATURE DO NOT DELETE/COMMENT METHOD\n",
        "\tpublic void allocateFranchiseInvalidName() throws Exception {\n",
        "\t\t\n",
        "\t}\n",
        "\n",
        "\t// DO NOT CHANGE METHOD SIGNATURE DO NOT DELETE/COMMENT METHOD\n",
        "\tpublic void allocateFranchiseInvalidQuotedPrice() throws Exception {\n",
        "\t\t\n",
        "\t}\n",
        "\n",
        "\t// DO NOT CHANGE METHOD SIGNATURE DO NOT DELETE/COMMENT METHOD\n",
        "\tpublic void allocateFranchiseInvalidContactNo() throws Exception {\n",
        "\t\t\n",
        "\t}\n",
        "}\n"
      ],
      "execution_count": 0,
      "outputs": []
    }
  ]
}